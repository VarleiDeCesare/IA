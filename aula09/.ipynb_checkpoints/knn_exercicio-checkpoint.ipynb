{
 "cells": [
  {
   "cell_type": "markdown",
   "metadata": {
    "colab_type": "text",
    "id": "view-in-github"
   },
   "source": [
    "<a href=\"https://colab.research.google.com/github/Dalazen/IA/blob/main/KNN_exercises.ipynb\" target=\"_parent\"><img src=\"https://colab.research.google.com/assets/colab-badge.svg\" alt=\"Open In Colab\"/></a>"
   ]
  },
  {
   "cell_type": "markdown",
   "metadata": {
    "id": "vyXOf6yrpUfa"
   },
   "source": [
    "# Execício 1\n",
    "\n",
    "Implementação Sistemas de Recomendação"
   ]
  },
  {
   "cell_type": "code",
   "execution_count": 14,
   "metadata": {
    "id": "TdNLb5E7prQj"
   },
   "outputs": [],
   "source": [
    "import pandas as pd\n",
    "import numpy as np\n",
    "from sklearn.neighbors import KNeighborsClassifier\n",
    "from sklearn.model_selection import train_test_split\n",
    "from sklearn.metrics import accuracy_score\n",
    "from sklearn.preprocessing import LabelEncoder\n",
    "from sklearn.preprocessing import StandardScaler"
   ]
  },
  {
   "cell_type": "code",
   "execution_count": 4,
   "metadata": {
    "colab": {
     "base_uri": "https://localhost:8080/",
     "height": 424
    },
    "id": "2THEUHugpuDT",
    "outputId": "89ba24ab-f423-4c59-c7ad-2a9e7de11aa4"
   },
   "outputs": [
    {
     "data": {
      "text/html": [
       "\n",
       "  <div id=\"df-8d5d00e0-2d1f-4c1a-acf8-f6069fe7871c\">\n",
       "    <div class=\"colab-df-container\">\n",
       "      <div>\n",
       "<style scoped>\n",
       "    .dataframe tbody tr th:only-of-type {\n",
       "        vertical-align: middle;\n",
       "    }\n",
       "\n",
       "    .dataframe tbody tr th {\n",
       "        vertical-align: top;\n",
       "    }\n",
       "\n",
       "    .dataframe thead th {\n",
       "        text-align: right;\n",
       "    }\n",
       "</style>\n",
       "<table border=\"1\" class=\"dataframe\">\n",
       "  <thead>\n",
       "    <tr style=\"text-align: right;\">\n",
       "      <th></th>\n",
       "      <th>sepal.length</th>\n",
       "      <th>sepal.width</th>\n",
       "      <th>petal.length</th>\n",
       "      <th>petal.width</th>\n",
       "      <th>variety</th>\n",
       "    </tr>\n",
       "  </thead>\n",
       "  <tbody>\n",
       "    <tr>\n",
       "      <th>0</th>\n",
       "      <td>5.1</td>\n",
       "      <td>3.5</td>\n",
       "      <td>1.4</td>\n",
       "      <td>0.2</td>\n",
       "      <td>Setosa</td>\n",
       "    </tr>\n",
       "    <tr>\n",
       "      <th>1</th>\n",
       "      <td>4.9</td>\n",
       "      <td>3.0</td>\n",
       "      <td>1.4</td>\n",
       "      <td>0.2</td>\n",
       "      <td>Setosa</td>\n",
       "    </tr>\n",
       "    <tr>\n",
       "      <th>2</th>\n",
       "      <td>4.7</td>\n",
       "      <td>3.2</td>\n",
       "      <td>1.3</td>\n",
       "      <td>0.2</td>\n",
       "      <td>Setosa</td>\n",
       "    </tr>\n",
       "    <tr>\n",
       "      <th>3</th>\n",
       "      <td>4.6</td>\n",
       "      <td>3.1</td>\n",
       "      <td>1.5</td>\n",
       "      <td>0.2</td>\n",
       "      <td>Setosa</td>\n",
       "    </tr>\n",
       "    <tr>\n",
       "      <th>4</th>\n",
       "      <td>5.0</td>\n",
       "      <td>3.6</td>\n",
       "      <td>1.4</td>\n",
       "      <td>0.2</td>\n",
       "      <td>Setosa</td>\n",
       "    </tr>\n",
       "    <tr>\n",
       "      <th>...</th>\n",
       "      <td>...</td>\n",
       "      <td>...</td>\n",
       "      <td>...</td>\n",
       "      <td>...</td>\n",
       "      <td>...</td>\n",
       "    </tr>\n",
       "    <tr>\n",
       "      <th>145</th>\n",
       "      <td>6.7</td>\n",
       "      <td>3.0</td>\n",
       "      <td>5.2</td>\n",
       "      <td>2.3</td>\n",
       "      <td>Virginica</td>\n",
       "    </tr>\n",
       "    <tr>\n",
       "      <th>146</th>\n",
       "      <td>6.3</td>\n",
       "      <td>2.5</td>\n",
       "      <td>5.0</td>\n",
       "      <td>1.9</td>\n",
       "      <td>Virginica</td>\n",
       "    </tr>\n",
       "    <tr>\n",
       "      <th>147</th>\n",
       "      <td>6.5</td>\n",
       "      <td>3.0</td>\n",
       "      <td>5.2</td>\n",
       "      <td>2.0</td>\n",
       "      <td>Virginica</td>\n",
       "    </tr>\n",
       "    <tr>\n",
       "      <th>148</th>\n",
       "      <td>6.2</td>\n",
       "      <td>3.4</td>\n",
       "      <td>5.4</td>\n",
       "      <td>2.3</td>\n",
       "      <td>Virginica</td>\n",
       "    </tr>\n",
       "    <tr>\n",
       "      <th>149</th>\n",
       "      <td>5.9</td>\n",
       "      <td>3.0</td>\n",
       "      <td>5.1</td>\n",
       "      <td>1.8</td>\n",
       "      <td>Virginica</td>\n",
       "    </tr>\n",
       "  </tbody>\n",
       "</table>\n",
       "<p>150 rows × 5 columns</p>\n",
       "</div>\n",
       "      <button class=\"colab-df-convert\" onclick=\"convertToInteractive('df-8d5d00e0-2d1f-4c1a-acf8-f6069fe7871c')\"\n",
       "              title=\"Convert this dataframe to an interactive table.\"\n",
       "              style=\"display:none;\">\n",
       "        \n",
       "  <svg xmlns=\"http://www.w3.org/2000/svg\" height=\"24px\"viewBox=\"0 0 24 24\"\n",
       "       width=\"24px\">\n",
       "    <path d=\"M0 0h24v24H0V0z\" fill=\"none\"/>\n",
       "    <path d=\"M18.56 5.44l.94 2.06.94-2.06 2.06-.94-2.06-.94-.94-2.06-.94 2.06-2.06.94zm-11 1L8.5 8.5l.94-2.06 2.06-.94-2.06-.94L8.5 2.5l-.94 2.06-2.06.94zm10 10l.94 2.06.94-2.06 2.06-.94-2.06-.94-.94-2.06-.94 2.06-2.06.94z\"/><path d=\"M17.41 7.96l-1.37-1.37c-.4-.4-.92-.59-1.43-.59-.52 0-1.04.2-1.43.59L10.3 9.45l-7.72 7.72c-.78.78-.78 2.05 0 2.83L4 21.41c.39.39.9.59 1.41.59.51 0 1.02-.2 1.41-.59l7.78-7.78 2.81-2.81c.8-.78.8-2.07 0-2.86zM5.41 20L4 18.59l7.72-7.72 1.47 1.35L5.41 20z\"/>\n",
       "  </svg>\n",
       "      </button>\n",
       "      \n",
       "  <style>\n",
       "    .colab-df-container {\n",
       "      display:flex;\n",
       "      flex-wrap:wrap;\n",
       "      gap: 12px;\n",
       "    }\n",
       "\n",
       "    .colab-df-convert {\n",
       "      background-color: #E8F0FE;\n",
       "      border: none;\n",
       "      border-radius: 50%;\n",
       "      cursor: pointer;\n",
       "      display: none;\n",
       "      fill: #1967D2;\n",
       "      height: 32px;\n",
       "      padding: 0 0 0 0;\n",
       "      width: 32px;\n",
       "    }\n",
       "\n",
       "    .colab-df-convert:hover {\n",
       "      background-color: #E2EBFA;\n",
       "      box-shadow: 0px 1px 2px rgba(60, 64, 67, 0.3), 0px 1px 3px 1px rgba(60, 64, 67, 0.15);\n",
       "      fill: #174EA6;\n",
       "    }\n",
       "\n",
       "    [theme=dark] .colab-df-convert {\n",
       "      background-color: #3B4455;\n",
       "      fill: #D2E3FC;\n",
       "    }\n",
       "\n",
       "    [theme=dark] .colab-df-convert:hover {\n",
       "      background-color: #434B5C;\n",
       "      box-shadow: 0px 1px 3px 1px rgba(0, 0, 0, 0.15);\n",
       "      filter: drop-shadow(0px 1px 2px rgba(0, 0, 0, 0.3));\n",
       "      fill: #FFFFFF;\n",
       "    }\n",
       "  </style>\n",
       "\n",
       "      <script>\n",
       "        const buttonEl =\n",
       "          document.querySelector('#df-8d5d00e0-2d1f-4c1a-acf8-f6069fe7871c button.colab-df-convert');\n",
       "        buttonEl.style.display =\n",
       "          google.colab.kernel.accessAllowed ? 'block' : 'none';\n",
       "\n",
       "        async function convertToInteractive(key) {\n",
       "          const element = document.querySelector('#df-8d5d00e0-2d1f-4c1a-acf8-f6069fe7871c');\n",
       "          const dataTable =\n",
       "            await google.colab.kernel.invokeFunction('convertToInteractive',\n",
       "                                                     [key], {});\n",
       "          if (!dataTable) return;\n",
       "\n",
       "          const docLinkHtml = 'Like what you see? Visit the ' +\n",
       "            '<a target=\"_blank\" href=https://colab.research.google.com/notebooks/data_table.ipynb>data table notebook</a>'\n",
       "            + ' to learn more about interactive tables.';\n",
       "          element.innerHTML = '';\n",
       "          dataTable['output_type'] = 'display_data';\n",
       "          await google.colab.output.renderOutput(dataTable, element);\n",
       "          const docLink = document.createElement('div');\n",
       "          docLink.innerHTML = docLinkHtml;\n",
       "          element.appendChild(docLink);\n",
       "        }\n",
       "      </script>\n",
       "    </div>\n",
       "  </div>\n",
       "  "
      ],
      "text/plain": [
       "     sepal.length  sepal.width  petal.length  petal.width    variety\n",
       "0             5.1          3.5           1.4          0.2     Setosa\n",
       "1             4.9          3.0           1.4          0.2     Setosa\n",
       "2             4.7          3.2           1.3          0.2     Setosa\n",
       "3             4.6          3.1           1.5          0.2     Setosa\n",
       "4             5.0          3.6           1.4          0.2     Setosa\n",
       "..            ...          ...           ...          ...        ...\n",
       "145           6.7          3.0           5.2          2.3  Virginica\n",
       "146           6.3          2.5           5.0          1.9  Virginica\n",
       "147           6.5          3.0           5.2          2.0  Virginica\n",
       "148           6.2          3.4           5.4          2.3  Virginica\n",
       "149           5.9          3.0           5.1          1.8  Virginica\n",
       "\n",
       "[150 rows x 5 columns]"
      ]
     },
     "execution_count": 4,
     "metadata": {},
     "output_type": "execute_result"
    }
   ],
   "source": [
    "df = pd.read_csv('iris.csv')\n",
    "df"
   ]
  },
  {
   "cell_type": "code",
   "execution_count": 34,
   "metadata": {
    "id": "07181PeCqgMI"
   },
   "outputs": [],
   "source": [
    "X = df.loc[:, df.columns != 'variety']\n",
    "y = df['variety']\n",
    "le = LabelEncoder()\n",
    "y = le.fit_transform(y)\n",
    "\n",
    "X_train, X_test, y_train, y_test = train_test_split(X, y, train_size=.75, random_state=0, stratify=y)"
   ]
  },
  {
   "cell_type": "code",
   "execution_count": 35,
   "metadata": {
    "colab": {
     "base_uri": "https://localhost:8080/"
    },
    "id": "4hSVt-dFqjUB",
    "outputId": "6ac13c27-4788-444d-8d80-a5cf5a5343e6"
   },
   "outputs": [
    {
     "data": {
      "text/plain": [
       "1.0"
      ]
     },
     "execution_count": 35,
     "metadata": {},
     "output_type": "execute_result"
    }
   ],
   "source": [
    "knn = KNeighborsClassifier(n_neighbors=15)\n",
    "knn.fit(X_train, y_train)\n",
    "predict_1 = knn.predict(X_test)\n",
    "\n",
    "accuracy_score(y_test, predict_1)"
   ]
  },
  {
   "cell_type": "code",
   "execution_count": 36,
   "metadata": {
    "id": "DcLxXK_BqkFB"
   },
   "outputs": [],
   "source": [
    "sc = StandardScaler()\n",
    "\n",
    "X_train_std = sc.fit_transform(X_train)\n",
    "X_test_std = sc.fit_transform(X_test)"
   ]
  },
  {
   "cell_type": "code",
   "execution_count": 39,
   "metadata": {
    "colab": {
     "base_uri": "https://localhost:8080/"
    },
    "id": "ma6bWBeNqvW1",
    "outputId": "ae3022ab-7ceb-4dac-e60b-a51cc44c6493"
   },
   "outputs": [
    {
     "name": "stderr",
     "output_type": "stream",
     "text": [
      "/usr/local/lib/python3.7/dist-packages/sklearn/base.py:451: UserWarning: X does not have valid feature names, but KNeighborsClassifier was fitted with feature names\n",
      "  \"X does not have valid feature names, but\"\n"
     ]
    },
    {
     "data": {
      "text/plain": [
       "0.34210526315789475"
      ]
     },
     "execution_count": 39,
     "metadata": {},
     "output_type": "execute_result"
    }
   ],
   "source": [
    "knn2 = KNeighborsClassifier(n_neighbors=5)\n",
    "knn2.fit(X_train_std, y_train)\n",
    "predict_2 = knn.predict(X_test_std)\n",
    "\n",
    "accuracy_score(y_test, predict_2)\n",
    "# https://github.com/tylerjrichards/Getting-Started-with-Streamlit-for-Data-Science/issues/5"
   ]
  },
  {
   "cell_type": "markdown",
   "metadata": {
    "id": "e90z3yoZsYnO"
   },
   "source": [
    "# Exercício 2\n",
    "\n",
    "Para o seguinte conjunto de dados:\n",
    "*   Utilize o K-NN para os seguintes valores de k: 1,3,5 e 7;\n",
    "*   Realize uma projeção de disperção para visualizar os dados\n",
    "*   Anote a taxa de acerto (acurácia);\n",
    "\n",
    "\n",
    "![image.png](data:image/png;base64,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)\n"
   ]
  },
  {
   "cell_type": "code",
   "execution_count": 40,
   "metadata": {
    "id": "mylIMVjXsuWe"
   },
   "outputs": [],
   "source": [
    "import pandas as pd\n",
    "from sklearn.model_selection import train_test_split\n",
    "from sklearn.metrics import accuracy_score\n",
    "from sklearn.neighbors import KNeighborsClassifier\n",
    "from sklearn.metrics import accuracy_score"
   ]
  },
  {
   "cell_type": "code",
   "execution_count": 42,
   "metadata": {
    "colab": {
     "base_uri": "https://localhost:8080/",
     "height": 363
    },
    "id": "zVOEBjHetMP6",
    "outputId": "91968014-b00a-4c59-c866-6ab141501665"
   },
   "outputs": [
    {
     "data": {
      "text/html": [
       "\n",
       "  <div id=\"df-2239aa5a-bc54-4b24-9913-ca47dc28a4d2\">\n",
       "    <div class=\"colab-df-container\">\n",
       "      <div>\n",
       "<style scoped>\n",
       "    .dataframe tbody tr th:only-of-type {\n",
       "        vertical-align: middle;\n",
       "    }\n",
       "\n",
       "    .dataframe tbody tr th {\n",
       "        vertical-align: top;\n",
       "    }\n",
       "\n",
       "    .dataframe thead th {\n",
       "        text-align: right;\n",
       "    }\n",
       "</style>\n",
       "<table border=\"1\" class=\"dataframe\">\n",
       "  <thead>\n",
       "    <tr style=\"text-align: right;\">\n",
       "      <th></th>\n",
       "      <th>eixo_x</th>\n",
       "      <th>eixo_y</th>\n",
       "      <th>classe</th>\n",
       "    </tr>\n",
       "  </thead>\n",
       "  <tbody>\n",
       "    <tr>\n",
       "      <th>0</th>\n",
       "      <td>1.16</td>\n",
       "      <td>7.04</td>\n",
       "      <td>0</td>\n",
       "    </tr>\n",
       "    <tr>\n",
       "      <th>1</th>\n",
       "      <td>7.21</td>\n",
       "      <td>7.55</td>\n",
       "      <td>1</td>\n",
       "    </tr>\n",
       "    <tr>\n",
       "      <th>2</th>\n",
       "      <td>2.36</td>\n",
       "      <td>8.76</td>\n",
       "      <td>0</td>\n",
       "    </tr>\n",
       "    <tr>\n",
       "      <th>3</th>\n",
       "      <td>4.31</td>\n",
       "      <td>6.81</td>\n",
       "      <td>1</td>\n",
       "    </tr>\n",
       "    <tr>\n",
       "      <th>4</th>\n",
       "      <td>0.41</td>\n",
       "      <td>9.49</td>\n",
       "      <td>0</td>\n",
       "    </tr>\n",
       "    <tr>\n",
       "      <th>5</th>\n",
       "      <td>6.09</td>\n",
       "      <td>6.91</td>\n",
       "      <td>1</td>\n",
       "    </tr>\n",
       "    <tr>\n",
       "      <th>6</th>\n",
       "      <td>4.96</td>\n",
       "      <td>7.72</td>\n",
       "      <td>1</td>\n",
       "    </tr>\n",
       "    <tr>\n",
       "      <th>7</th>\n",
       "      <td>5.20</td>\n",
       "      <td>8.93</td>\n",
       "      <td>1</td>\n",
       "    </tr>\n",
       "    <tr>\n",
       "      <th>8</th>\n",
       "      <td>2.35</td>\n",
       "      <td>8.65</td>\n",
       "      <td>0</td>\n",
       "    </tr>\n",
       "    <tr>\n",
       "      <th>9</th>\n",
       "      <td>2.77</td>\n",
       "      <td>9.00</td>\n",
       "      <td>0</td>\n",
       "    </tr>\n",
       "  </tbody>\n",
       "</table>\n",
       "</div>\n",
       "      <button class=\"colab-df-convert\" onclick=\"convertToInteractive('df-2239aa5a-bc54-4b24-9913-ca47dc28a4d2')\"\n",
       "              title=\"Convert this dataframe to an interactive table.\"\n",
       "              style=\"display:none;\">\n",
       "        \n",
       "  <svg xmlns=\"http://www.w3.org/2000/svg\" height=\"24px\"viewBox=\"0 0 24 24\"\n",
       "       width=\"24px\">\n",
       "    <path d=\"M0 0h24v24H0V0z\" fill=\"none\"/>\n",
       "    <path d=\"M18.56 5.44l.94 2.06.94-2.06 2.06-.94-2.06-.94-.94-2.06-.94 2.06-2.06.94zm-11 1L8.5 8.5l.94-2.06 2.06-.94-2.06-.94L8.5 2.5l-.94 2.06-2.06.94zm10 10l.94 2.06.94-2.06 2.06-.94-2.06-.94-.94-2.06-.94 2.06-2.06.94z\"/><path d=\"M17.41 7.96l-1.37-1.37c-.4-.4-.92-.59-1.43-.59-.52 0-1.04.2-1.43.59L10.3 9.45l-7.72 7.72c-.78.78-.78 2.05 0 2.83L4 21.41c.39.39.9.59 1.41.59.51 0 1.02-.2 1.41-.59l7.78-7.78 2.81-2.81c.8-.78.8-2.07 0-2.86zM5.41 20L4 18.59l7.72-7.72 1.47 1.35L5.41 20z\"/>\n",
       "  </svg>\n",
       "      </button>\n",
       "      \n",
       "  <style>\n",
       "    .colab-df-container {\n",
       "      display:flex;\n",
       "      flex-wrap:wrap;\n",
       "      gap: 12px;\n",
       "    }\n",
       "\n",
       "    .colab-df-convert {\n",
       "      background-color: #E8F0FE;\n",
       "      border: none;\n",
       "      border-radius: 50%;\n",
       "      cursor: pointer;\n",
       "      display: none;\n",
       "      fill: #1967D2;\n",
       "      height: 32px;\n",
       "      padding: 0 0 0 0;\n",
       "      width: 32px;\n",
       "    }\n",
       "\n",
       "    .colab-df-convert:hover {\n",
       "      background-color: #E2EBFA;\n",
       "      box-shadow: 0px 1px 2px rgba(60, 64, 67, 0.3), 0px 1px 3px 1px rgba(60, 64, 67, 0.15);\n",
       "      fill: #174EA6;\n",
       "    }\n",
       "\n",
       "    [theme=dark] .colab-df-convert {\n",
       "      background-color: #3B4455;\n",
       "      fill: #D2E3FC;\n",
       "    }\n",
       "\n",
       "    [theme=dark] .colab-df-convert:hover {\n",
       "      background-color: #434B5C;\n",
       "      box-shadow: 0px 1px 3px 1px rgba(0, 0, 0, 0.15);\n",
       "      filter: drop-shadow(0px 1px 2px rgba(0, 0, 0, 0.3));\n",
       "      fill: #FFFFFF;\n",
       "    }\n",
       "  </style>\n",
       "\n",
       "      <script>\n",
       "        const buttonEl =\n",
       "          document.querySelector('#df-2239aa5a-bc54-4b24-9913-ca47dc28a4d2 button.colab-df-convert');\n",
       "        buttonEl.style.display =\n",
       "          google.colab.kernel.accessAllowed ? 'block' : 'none';\n",
       "\n",
       "        async function convertToInteractive(key) {\n",
       "          const element = document.querySelector('#df-2239aa5a-bc54-4b24-9913-ca47dc28a4d2');\n",
       "          const dataTable =\n",
       "            await google.colab.kernel.invokeFunction('convertToInteractive',\n",
       "                                                     [key], {});\n",
       "          if (!dataTable) return;\n",
       "\n",
       "          const docLinkHtml = 'Like what you see? Visit the ' +\n",
       "            '<a target=\"_blank\" href=https://colab.research.google.com/notebooks/data_table.ipynb>data table notebook</a>'\n",
       "            + ' to learn more about interactive tables.';\n",
       "          element.innerHTML = '';\n",
       "          dataTable['output_type'] = 'display_data';\n",
       "          await google.colab.output.renderOutput(dataTable, element);\n",
       "          const docLink = document.createElement('div');\n",
       "          docLink.innerHTML = docLinkHtml;\n",
       "          element.appendChild(docLink);\n",
       "        }\n",
       "      </script>\n",
       "    </div>\n",
       "  </div>\n",
       "  "
      ],
      "text/plain": [
       "   eixo_x  eixo_y  classe\n",
       "0    1.16    7.04       0\n",
       "1    7.21    7.55       1\n",
       "2    2.36    8.76       0\n",
       "3    4.31    6.81       1\n",
       "4    0.41    9.49       0\n",
       "5    6.09    6.91       1\n",
       "6    4.96    7.72       1\n",
       "7    5.20    8.93       1\n",
       "8    2.35    8.65       0\n",
       "9    2.77    9.00       0"
      ]
     },
     "execution_count": 42,
     "metadata": {},
     "output_type": "execute_result"
    }
   ],
   "source": [
    "df = pd.read_excel('dados_exercicios.xlsx')\n",
    "df"
   ]
  },
  {
   "cell_type": "code",
   "execution_count": 44,
   "metadata": {
    "id": "4zURo_VAta1P"
   },
   "outputs": [],
   "source": [
    "X = df.loc[:, df.columns != 'classe']\n",
    "y = df['classe']\n",
    "\n",
    "X_train, X_test, y_train, y_test = train_test_split(X, y, train_size=.7, random_state=0, stratify=y)"
   ]
  },
  {
   "cell_type": "code",
   "execution_count": 46,
   "metadata": {
    "colab": {
     "base_uri": "https://localhost:8080/"
    },
    "id": "OvgwU5oItemJ",
    "outputId": "6c023bb5-8ce0-4c90-fac2-d28b1d4e1b03"
   },
   "outputs": [
    {
     "name": "stdout",
     "output_type": "stream",
     "text": [
      "Acurácia para k = 1: 100.0\n",
      "Acurácia para k = 3: 100.0\n",
      "Acurácia para k = 5: 100.0\n",
      "Acurácia para k = 7: 33.33333333333333\n"
     ]
    }
   ],
   "source": [
    "for k in range(1, 8, 2):\n",
    "    knn = KNeighborsClassifier(n_neighbors=k)\n",
    "    knn.fit(X_train, y_train)\n",
    "    predicts = knn.predict(X_test)\n",
    "    print(f'Acurácia para k = {k}: {accuracy_score(y_test, predicts)*100}')"
   ]
  }
 ],
 "metadata": {
  "colab": {
   "authorship_tag": "ABX9TyPAUExPoIK7VFwcCINhxCS0",
   "include_colab_link": true,
   "name": "KNN_exercises.ipynb",
   "provenance": []
  },
  "kernelspec": {
   "display_name": "Python 3 (ipykernel)",
   "language": "python",
   "name": "python3"
  },
  "language_info": {
   "codemirror_mode": {
    "name": "ipython",
    "version": 3
   },
   "file_extension": ".py",
   "mimetype": "text/x-python",
   "name": "python",
   "nbconvert_exporter": "python",
   "pygments_lexer": "ipython3",
   "version": "3.9.7"
  }
 },
 "nbformat": 4,
 "nbformat_minor": 1
}
