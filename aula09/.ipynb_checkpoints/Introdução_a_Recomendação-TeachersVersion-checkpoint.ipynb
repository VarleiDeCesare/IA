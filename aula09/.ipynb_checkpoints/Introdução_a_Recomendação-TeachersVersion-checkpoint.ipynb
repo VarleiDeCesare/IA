{
 "cells": [
  {
   "cell_type": "markdown",
   "metadata": {},
   "source": [
    "## Compreendendo o dataset movies.csv (filmes)\n",
    "### colunas = [\"filmeId\", \"titulo\", \"generos\"]\n",
    "#### .set_index(\"filmeId)"
   ]
  },
  {
   "cell_type": "code",
   "execution_count": 1,
   "metadata": {
    "colab": {
     "base_uri": "https://localhost:8080/",
     "height": 235
    },
    "colab_type": "code",
    "id": "NhuojMFKZa2M",
    "outputId": "1c43bb3d-6c8e-4824-c866-be37c5defa69"
   },
   "outputs": [],
   "source": [
    "import pandas as pd \n",
    "filmes = pd.read_csv('../movies.csv')\n",
    "filmes.columns = [\"filmeId\", \"titulo\", \"generos\"]\n",
    "filmes..set_index(\"filmeId)"
   ]
  },
  {
   "cell_type": "markdown",
   "metadata": {},
   "source": [
    "## Dataset complementar ratings.csv (notas)\n",
    "### colunas = [\"usuarioId\", \"filmeId\", \"nota\", \"momento\"]"
   ]
  },
  {
   "cell_type": "code",
   "execution_count": 3,
   "metadata": {
    "colab": {
     "base_uri": "https://localhost:8080/",
     "height": 204
    },
    "colab_type": "code",
    "id": "fffNtxjMZte0",
    "outputId": "56d52a86-0718-40c4-bc38-406e75078978"
   },
   "outputs": [
    {
     "data": {
      "text/html": [
       "<div>\n",
       "<style scoped>\n",
       "    .dataframe tbody tr th:only-of-type {\n",
       "        vertical-align: middle;\n",
       "    }\n",
       "\n",
       "    .dataframe tbody tr th {\n",
       "        vertical-align: top;\n",
       "    }\n",
       "\n",
       "    .dataframe thead th {\n",
       "        text-align: right;\n",
       "    }\n",
       "</style>\n",
       "<table border=\"1\" class=\"dataframe\">\n",
       "  <thead>\n",
       "    <tr style=\"text-align: right;\">\n",
       "      <th></th>\n",
       "      <th>filmeId</th>\n",
       "      <th>titulo</th>\n",
       "      <th>generos</th>\n",
       "    </tr>\n",
       "  </thead>\n",
       "  <tbody>\n",
       "    <tr>\n",
       "      <th>0</th>\n",
       "      <td>1</td>\n",
       "      <td>Toy Story (1995)</td>\n",
       "      <td>Adventure|Animation|Children|Comedy|Fantasy</td>\n",
       "    </tr>\n",
       "    <tr>\n",
       "      <th>1</th>\n",
       "      <td>2</td>\n",
       "      <td>Jumanji (1995)</td>\n",
       "      <td>Adventure|Children|Fantasy</td>\n",
       "    </tr>\n",
       "    <tr>\n",
       "      <th>2</th>\n",
       "      <td>3</td>\n",
       "      <td>Grumpier Old Men (1995)</td>\n",
       "      <td>Comedy|Romance</td>\n",
       "    </tr>\n",
       "    <tr>\n",
       "      <th>3</th>\n",
       "      <td>4</td>\n",
       "      <td>Waiting to Exhale (1995)</td>\n",
       "      <td>Comedy|Drama|Romance</td>\n",
       "    </tr>\n",
       "    <tr>\n",
       "      <th>4</th>\n",
       "      <td>5</td>\n",
       "      <td>Father of the Bride Part II (1995)</td>\n",
       "      <td>Comedy</td>\n",
       "    </tr>\n",
       "  </tbody>\n",
       "</table>\n",
       "</div>"
      ],
      "text/plain": [
       "   filmeId                              titulo  \\\n",
       "0        1                    Toy Story (1995)   \n",
       "1        2                      Jumanji (1995)   \n",
       "2        3             Grumpier Old Men (1995)   \n",
       "3        4            Waiting to Exhale (1995)   \n",
       "4        5  Father of the Bride Part II (1995)   \n",
       "\n",
       "                                       generos  \n",
       "0  Adventure|Animation|Children|Comedy|Fantasy  \n",
       "1                   Adventure|Children|Fantasy  \n",
       "2                               Comedy|Romance  \n",
       "3                         Comedy|Drama|Romance  \n",
       "4                                       Comedy  "
      ]
     },
     "execution_count": 3,
     "metadata": {},
     "output_type": "execute_result"
    }
   ],
   "source": [
    "notas = pd.read_csv('../ratings.csv')\n",
    "notas.columns = [\"usuarioId\", \"filmeId\", \"nota\", \"momento\"]"
   ]
  },
  {
   "cell_type": "markdown",
   "metadata": {},
   "source": [
    "### Describe"
   ]
  },
  {
   "cell_type": "code",
   "execution_count": null,
   "metadata": {
    "colab": {
     "base_uri": "https://localhost:8080/",
     "height": 297
    },
    "colab_type": "code",
    "id": "C1enzh4uaGhj",
    "outputId": "984925be-a9ce-441b-bdfd-75131b904d95"
   },
   "outputs": [],
   "source": [
    "# ?"
   ]
  },
  {
   "cell_type": "markdown",
   "metadata": {
    "colab_type": "text",
    "id": "X2xLTw_haUYt"
   },
   "source": [
    "# Primeira abordagem de recomendação: heurística de total de votos (value_counts)"
   ]
  },
  {
   "cell_type": "code",
   "execution_count": null,
   "metadata": {
    "colab": {
     "base_uri": "https://localhost:8080/",
     "height": 119
    },
    "colab_type": "code",
    "id": "iHrT8UkhaPdv",
    "outputId": "6e87e9b4-8801-4974-fc0e-5fe2c19f2ac2"
   },
   "outputs": [],
   "source": [
    "total_de_votos = notas[\"filmeId\"].value_counts()\n",
    "# ?"
   ]
  },
  {
   "cell_type": "markdown",
   "metadata": {},
   "source": [
    "### Adicionando o total de votos como coluna do dataset filmes"
   ]
  },
  {
   "cell_type": "code",
   "execution_count": null,
   "metadata": {
    "colab": {
     "base_uri": "https://localhost:8080/",
     "height": 235
    },
    "colab_type": "code",
    "id": "V-DQ1r0bbknY",
    "outputId": "507ad502-ad6a-4dcd-a961-7c0cdafa4a4d"
   },
   "outputs": [],
   "source": [
    "filmes['total_de_votos'] = total_de_votos\n",
    "# ?"
   ]
  },
  {
   "cell_type": "markdown",
   "metadata": {},
   "source": [
    "### Ordenando o dataset de filmes por total de votos decrescente"
   ]
  },
  {
   "cell_type": "code",
   "execution_count": null,
   "metadata": {
    "colab": {
     "base_uri": "https://localhost:8080/",
     "height": 390
    },
    "colab_type": "code",
    "id": "dDDE1SVobX6f",
    "outputId": "3d918d38-c5fa-42b3-9d84-cf34fdf469df"
   },
   "outputs": [],
   "source": [
    "filmes.sort_values(\"total_de_votos\", ascending = False).head(10)"
   ]
  },
  {
   "cell_type": "markdown",
   "metadata": {},
   "source": [
    "### Agrupando o dataset notas por filmeId e agregando por média obtendo a coluna \"nota\""
   ]
  },
  {
   "cell_type": "code",
   "execution_count": null,
   "metadata": {
    "colab": {
     "base_uri": "https://localhost:8080/",
     "height": 136
    },
    "colab_type": "code",
    "id": "hb0s4XR1ca6s",
    "outputId": "68a33b2f-67df-4ade-be1e-9bb1731fb735"
   },
   "outputs": [],
   "source": [
    "notas_medias = notas.groupby(\"filmeId\").mean()[\"nota\"]\n",
    "# ?"
   ]
  },
  {
   "cell_type": "markdown",
   "metadata": {},
   "source": [
    "### Adicionando as notas_medias como coluna do dataset filmes"
   ]
  },
  {
   "cell_type": "code",
   "execution_count": null,
   "metadata": {
    "colab": {
     "base_uri": "https://localhost:8080/",
     "height": 373
    },
    "colab_type": "code",
    "id": "HrZC0YaBd79e",
    "outputId": "3cdcf47d-33a7-4159-cf93-9bb2ff8f050e"
   },
   "outputs": [],
   "source": [
    "# ?\n",
    "filmes.sort_values(\"total_de_votos\", ascending = False).head(10)"
   ]
  },
  {
   "cell_type": "markdown",
   "metadata": {
    "colab_type": "text",
    "id": "HE8Bfat0erQo"
   },
   "source": [
    "# Uma segunda heurística: nota média com filtro de votos"
   ]
  },
  {
   "cell_type": "code",
   "execution_count": null,
   "metadata": {
    "colab": {
     "base_uri": "https://localhost:8080/",
     "height": 373
    },
    "colab_type": "code",
    "id": "5gC0d4mleRCc",
    "outputId": "e30e07b7-1108-4ad0-814f-bfcf903e2055"
   },
   "outputs": [],
   "source": [
    "filmes.sort_values(\"nota_media\", ascending = False).head(10)"
   ]
  },
  {
   "cell_type": "markdown",
   "metadata": {},
   "source": [
    "### Pelo menos 10 votos"
   ]
  },
  {
   "cell_type": "code",
   "execution_count": null,
   "metadata": {
    "colab": {
     "base_uri": "https://localhost:8080/",
     "height": 373
    },
    "colab_type": "code",
    "id": "q_pi0S5fe027",
    "outputId": "68f4705d-8479-4b27-f9a8-fe1068c5525e"
   },
   "outputs": [],
   "source": [
    "filmes.query(\"total_de_votos ?\").sort_values(\"nota_media\", ascending = False).head(10)"
   ]
  },
  {
   "cell_type": "markdown",
   "metadata": {},
   "source": [
    "### Filmes com mais de 50 votos"
   ]
  },
  {
   "cell_type": "code",
   "execution_count": null,
   "metadata": {
    "colab": {
     "base_uri": "https://localhost:8080/",
     "height": 373
    },
    "colab_type": "code",
    "id": "xyqPlckAfZSw",
    "outputId": "9ca8b7a8-6d9a-4aa2-c795-13ae81d61531"
   },
   "outputs": [],
   "source": [
    "#?\n",
    "filmes_com_mais_de_50_votos.sort_values(\"nota_media\", ascending = False).head(10)\n"
   ]
  },
  {
   "cell_type": "markdown",
   "metadata": {},
   "source": [
    "### Filtro de filmes que \"eu\" assisti"
   ]
  },
  {
   "cell_type": "code",
   "execution_count": null,
   "metadata": {
    "colab": {
     "base_uri": "https://localhost:8080/",
     "height": 284
    },
    "colab_type": "code",
    "id": "E-q95An3fmNT",
    "outputId": "791f6391-99b8-4215-efcd-86a6801c85ec"
   },
   "outputs": [],
   "source": [
    "eu_assisti = [1, 21, 19, 10, 11, 7, 2]\n",
    "filmes.loc[eu_assisti]"
   ]
  },
  {
   "cell_type": "markdown",
   "metadata": {},
   "source": [
    "### Filtro de filmes por gênero ordenado pela nota média"
   ]
  },
  {
   "cell_type": "code",
   "execution_count": null,
   "metadata": {
    "colab": {
     "base_uri": "https://localhost:8080/",
     "height": 373
    },
    "colab_type": "code",
    "id": "bA88PsA3hk9s",
    "outputId": "bebb09d2-36cc-4ca2-f166-f67ec6ab9b4d"
   },
   "outputs": [],
   "source": [
    "aventura_infantil_e_fantasia = filmes_com_mais_de_50_votos.query(\"generos=='Adventure|Children|Fantasy'\")\n",
    "aventura_infantil_e_fantasia.drop(eu_assisti, errors='ignore').sort_values(\"nota_media\", ascending = False).head(10)"
   ]
  },
  {
   "cell_type": "markdown",
   "metadata": {
    "colab": {},
    "colab_type": "code",
    "id": "X9QOxjKHh5aD"
   },
   "source": [
    "# Abordagens Collaborative filtering x Content based filtering"
   ]
  },
  {
   "cell_type": "markdown",
   "metadata": {
    "colab_type": "text",
    "id": "YZOO7Ifp0WWU"
   },
   "source": [
    "# Procurar usuários \"similares\" (Collaborative Filtering)"
   ]
  },
  {
   "cell_type": "markdown",
   "metadata": {
    "colab_type": "text",
    "id": "HZF6Hpma0jdm"
   },
   "source": [
    "- joão deu nota 4 no filme toy story\n",
    "- maria deu nota 5 no filme toy story\n",
    "- paulo deu nota 3 no filme toy story\n",
    "- joana deu nota 3.5 no filme toy story\n",
    "\n",
    "x-y ==> distância"
   ]
  },
  {
   "cell_type": "code",
   "execution_count": null,
   "metadata": {
    "colab": {
     "base_uri": "https://localhost:8080/",
     "height": 378
    },
    "colab_type": "code",
    "id": "nwh6sFdxz1wp",
    "outputId": "5b67b575-3ffd-4113-f89e-7146be83e84f"
   },
   "outputs": [],
   "source": [
    "import matplotlib.pyplot as plt\n",
    "plt.plot(4, 4.5, \"go\")\n",
    "plt.plot(5, 5, \"yo\")\n",
    "plt.legend([\"João\", \"Maria\"])\n",
    "plt.title(\"Calcular a distância entre dois usuários\")\n",
    "\n",
    "# plt.plot([4, 5], [4.5, 5], color=\"b\", linestyle=\"-\")\n",
    "# plt.plot([4, 5], [4.5, 4.5], color=\"b\", linestyle=\"-\")\n",
    "# plt.plot([5, 5], [4.5, 5], color=\"b\", linestyle=\"-\")"
   ]
  },
  {
   "cell_type": "markdown",
   "metadata": {},
   "source": [
    "### Diferença linear entre 2 usuários"
   ]
  },
  {
   "cell_type": "code",
   "execution_count": null,
   "metadata": {
    "colab": {
     "base_uri": "https://localhost:8080/",
     "height": 34
    },
    "colab_type": "code",
    "id": "bOMpuU2921Mw",
    "outputId": "fcb361f9-e690-436a-ccd9-e5344000730d"
   },
   "outputs": [],
   "source": [
    "import numpy as np\n",
    "\n",
    "joao = np.array([4, 4.5])\n",
    "maria = np.array([5, 5])\n",
    "\n",
    "joao - maria"
   ]
  },
  {
   "cell_type": "markdown",
   "metadata": {},
   "source": [
    "### O Teorema de Pitágoras pode ser implementado com a raiz quadrada da soma entre os produtos dos catetos"
   ]
  },
  {
   "cell_type": "code",
   "execution_count": null,
   "metadata": {
    "colab": {
     "base_uri": "https://localhost:8080/",
     "height": 34
    },
    "colab_type": "code",
    "id": "opBd04bQ2__b",
    "outputId": "26f09579-aa92-4ab2-9f85-c0f2d683f47e"
   },
   "outputs": [],
   "source": [
    "from math import sqrt\n",
    "\n",
    "def pitagoras(a,b):\n",
    "  (delta_x, delta_y) = a - b\n",
    "  return sqrt(delta_x * delta_x + delta_y * delta_y)\n",
    "\n",
    "pitagoras(joao, maria)"
   ]
  },
  {
   "cell_type": "code",
   "execution_count": null,
   "metadata": {
    "colab": {
     "base_uri": "https://localhost:8080/",
     "height": 34
    },
    "colab_type": "code",
    "id": "5bGAWvTU3hRA",
    "outputId": "7f77b83e-4ef6-4652-866f-7126ce09eb93"
   },
   "outputs": [],
   "source": [
    "def pitagoras(a,b):\n",
    "    return np.linalg.norm(a - b)\n",
    "\n",
    "pitagoras(joao, maria)"
   ]
  },
  {
   "cell_type": "markdown",
   "metadata": {},
   "source": [
    "### Exemplos"
   ]
  },
  {
   "cell_type": "code",
   "execution_count": null,
   "metadata": {
    "colab": {
     "base_uri": "https://localhost:8080/",
     "height": 378
    },
    "colab_type": "code",
    "id": "eugqrwvB3pvK",
    "outputId": "bb7ab441-3d95-474a-cd71-42f90ec541a5"
   },
   "outputs": [],
   "source": [
    "import matplotlib.pyplot as plt\n",
    "plt.plot(4, 4.5, \"go\")\n",
    "plt.plot(5, 5, \"yo\")\n",
    "plt.plot(3.5, 4.5, \"bo\")\n",
    "plt.legend([\"João\", \"Maria\", \"Joaquina\"])\n",
    "plt.title(\"Calcular a distância entre usuários\")\n"
   ]
  },
  {
   "cell_type": "code",
   "execution_count": null,
   "metadata": {
    "colab": {
     "base_uri": "https://localhost:8080/",
     "height": 50
    },
    "colab_type": "code",
    "id": "5j2yydH84Bu7",
    "outputId": "fcfcae1d-3905-4bc4-a194-c9d52bc29d05"
   },
   "outputs": [],
   "source": [
    "joaquina = np.array([3.5, 4.5])\n",
    "\n",
    "print(pitagoras(joao, maria))\n",
    "print(pitagoras(joao, joaquina))"
   ]
  },
  {
   "cell_type": "markdown",
   "metadata": {
    "colab_type": "text",
    "id": "zDwu8YEOvEFT"
   },
   "source": [
    "# Distância entre usuários do dataset"
   ]
  },
  {
   "cell_type": "code",
   "execution_count": null,
   "metadata": {
    "colab": {},
    "colab_type": "code",
    "id": "8EAva5D24KrG"
   },
   "outputs": [],
   "source": [
    "def distancia_de_vetores(a,b):\n",
    "    return np.linalg.norm(a - b)\n"
   ]
  },
  {
   "cell_type": "markdown",
   "metadata": {},
   "source": [
    "### Busca as notas de um dado usuário e retorna associado ao filmeId"
   ]
  },
  {
   "cell_type": "code",
   "execution_count": null,
   "metadata": {
    "colab": {},
    "colab_type": "code",
    "id": "oqbbrwNK4b4z"
   },
   "outputs": [],
   "source": [
    "def notas_do_usuario(usuario):\n",
    "    notas_do_usuario = notas.query(\"usuarioId==%d\" % usuario)\n",
    "    notas_do_usuario = notas_do_usuario[[\"filmeId\", \"nota\"]].set_index(\"filmeId\")\n",
    "    \n",
    "    return notas_do_usuario"
   ]
  },
  {
   "cell_type": "markdown",
   "metadata": {},
   "source": [
    "### Teste"
   ]
  },
  {
   "cell_type": "code",
   "execution_count": null,
   "metadata": {
    "colab": {},
    "colab_type": "code",
    "id": "CSRRdtVzpBxC"
   },
   "outputs": [],
   "source": [
    "usuario1 = notas_do_usuario(1)\n",
    "usuario4 = notas_do_usuario(4)"
   ]
  },
  {
   "cell_type": "code",
   "execution_count": null,
   "metadata": {
    "colab": {
     "base_uri": "https://localhost:8080/",
     "height": 225
    },
    "colab_type": "code",
    "id": "WgQr9xA1p15N",
    "outputId": "9ca9e8d9-5281-4651-ab54-2d05996985ea"
   },
   "outputs": [],
   "source": [
    "# ?"
   ]
  },
  {
   "cell_type": "code",
   "execution_count": null,
   "metadata": {
    "colab": {
     "base_uri": "https://localhost:8080/",
     "height": 225
    },
    "colab_type": "code",
    "id": "_p_xUro2qAm8",
    "outputId": "3c006eb7-173e-44a0-bd1a-44deaff6939d"
   },
   "outputs": [],
   "source": [
    "# ? "
   ]
  },
  {
   "cell_type": "markdown",
   "metadata": {},
   "source": [
    "### Calcular as diferenças das notas de 2 usuários"
   ]
  },
  {
   "cell_type": "code",
   "execution_count": null,
   "metadata": {
    "colab": {
     "base_uri": "https://localhost:8080/",
     "height": 34
    },
    "colab_type": "code",
    "id": "ib3bPrKYqB0-",
    "outputId": "1b624a67-231b-44e7-f642-96b9b14cec31"
   },
   "outputs": [],
   "source": [
    "diferencas = usuario1.join(usuario4, lsuffix=\"_esquerda\", rsuffix=\"_direita\").dropna()\n",
    "distancia_de_vetores(diferencas['nota_esquerda'], diferencas['nota_direita'])"
   ]
  },
  {
   "cell_type": "markdown",
   "metadata": {},
   "source": [
    "### Distância entre 2 usuários em uma função"
   ]
  },
  {
   "cell_type": "code",
   "execution_count": null,
   "metadata": {
    "colab": {},
    "colab_type": "code",
    "id": "R5_mBLDzsqAs"
   },
   "outputs": [],
   "source": [
    "def distancia_de_usuarios(usuario_id1, usuario_id2):\n",
    "    notas1 = notas_do_usuario(usuario_id1)\n",
    "    notas2 = notas_do_usuario(usuario_id2)\n",
    "    diferencas = notas1.join(notas2, lsuffix=\"_esquerda\", rsuffix=\"_direita\").dropna()\n",
    "    distancia =  distancia_de_vetores(diferencas['nota_esquerda'], diferencas['nota_direita'])\n",
    "    return [usuario_id1, usuario_id2, distancia]"
   ]
  },
  {
   "cell_type": "markdown",
   "metadata": {},
   "source": [
    "### Teste"
   ]
  },
  {
   "cell_type": "code",
   "execution_count": null,
   "metadata": {
    "colab": {
     "base_uri": "https://localhost:8080/",
     "height": 34
    },
    "colab_type": "code",
    "id": "vb8H5Z6ps3yJ",
    "outputId": "466a6827-e545-4143-e7d6-3f13041ae409"
   },
   "outputs": [],
   "source": [
    "distancia_de_usuarios(1,4)"
   ]
  },
  {
   "cell_type": "markdown",
   "metadata": {},
   "source": [
    "### Quantos usuários únicos temos no dataset"
   ]
  },
  {
   "cell_type": "code",
   "execution_count": null,
   "metadata": {
    "colab": {
     "base_uri": "https://localhost:8080/",
     "height": 34
    },
    "colab_type": "code",
    "id": "SaUdWjCPtN5e",
    "outputId": "e7b80d7a-c557-434a-c856-a1cc8f232c5b"
   },
   "outputs": [],
   "source": [
    "quantidade_de_usuarios = len(notas['usuarioId'].unique())\n",
    "print(\"Temos %d usuarios\" % quantidade_de_usuarios)"
   ]
  },
  {
   "cell_type": "markdown",
   "metadata": {},
   "source": [
    "### Percorrendo todos os usuários e armazenando a distância"
   ]
  },
  {
   "cell_type": "code",
   "execution_count": null,
   "metadata": {
    "colab": {
     "base_uri": "https://localhost:8080/",
     "height": 101
    },
    "colab_type": "code",
    "id": "YKK_6f56vUOI",
    "outputId": "022896be-5191-4799-c1dc-b3502de49570"
   },
   "outputs": [],
   "source": [
    "def distancia_de_todos(voce_id):\n",
    "    distancias = []\n",
    "    for usuario_id in notas['usuarioId'].unique():\n",
    "        distancia_entre_dois_usuarios = distancia_de_usuarios(voce_id, usuario_id)\n",
    "        distancias.append(distancia_entre_dois_usuarios)\n",
    "    return distancias\n",
    "\n",
    "distancia_de_todos(1)[:5]"
   ]
  },
  {
   "cell_type": "markdown",
   "metadata": {},
   "source": [
    "### Utilizando uma lista para criar um dataframe de distancias"
   ]
  },
  {
   "cell_type": "code",
   "execution_count": null,
   "metadata": {
    "colab": {
     "base_uri": "https://localhost:8080/",
     "height": 195
    },
    "colab_type": "code",
    "id": "trCL2Qt5v6HE",
    "outputId": "4053a8a9-f506-4fd0-ee50-91cb8d1a018b"
   },
   "outputs": [],
   "source": [
    "def distancia_de_todos(voce_id):\n",
    "    todos_os_usuarios = notas['usuarioId'].unique()\n",
    "    distancias = [distancia_de_usuarios(voce_id, usuario_id) for usuario_id in todos_os_usuarios]\n",
    "    distancias = pd.DataFrame(distancias, columns = [\"voce\", \"outra_pessoa\", \"distancia\"])\n",
    "    return distancias\n",
    "\n",
    "distancia_de_todos(1).head()"
   ]
  },
  {
   "cell_type": "markdown",
   "metadata": {},
   "source": [
    "### Diferença das notas de um usuário para outro"
   ]
  },
  {
   "cell_type": "code",
   "execution_count": null,
   "metadata": {
    "colab": {
     "base_uri": "https://localhost:8080/",
     "height": 77
    },
    "colab_type": "code",
    "id": "OUFSfCIkxDJ0",
    "outputId": "b80b308a-a550-4692-aa74-d48f07dcfff1"
   },
   "outputs": [],
   "source": [
    "notas_do_usuario(1).join(notas_do_usuario(5), lsuffix=\"_1\", rsuffix=\"5\").dropna()"
   ]
  },
  {
   "cell_type": "code",
   "execution_count": null,
   "metadata": {
    "colab": {
     "base_uri": "https://localhost:8080/",
     "height": 77
    },
    "colab_type": "code",
    "id": "tvKS94D1yTj3",
    "outputId": "b0551b19-e20c-4351-9a82-340e11bdcea2"
   },
   "outputs": [],
   "source": [
    "notas_do_usuario(1).join(notas_do_usuario(2), lsuffix=\"_1\", rsuffix=\"2\").dropna()"
   ]
  },
  {
   "cell_type": "code",
   "execution_count": null,
   "metadata": {
    "colab": {
     "base_uri": "https://localhost:8080/",
     "height": 77
    },
    "colab_type": "code",
    "id": "_Exy-vNTyluf",
    "outputId": "3b4ecb7d-0d2b-43d7-a640-9e97df17527e"
   },
   "outputs": [],
   "source": [
    "notas_do_usuario(1).join(notas_do_usuario(3), lsuffix=\"_1\", rsuffix=\"3\").dropna()"
   ]
  },
  {
   "cell_type": "markdown",
   "metadata": {
    "colab_type": "text",
    "id": "Xj0IeXjUy59_"
   },
   "source": [
    "# Usuários sem filmes em comum serão colocados bem distantes um do outro para ressaltar a diferença"
   ]
  },
  {
   "cell_type": "code",
   "execution_count": null,
   "metadata": {
    "colab": {},
    "colab_type": "code",
    "id": "G_hCn3lLypGs"
   },
   "outputs": [],
   "source": [
    "def distancia_de_usuarios(usuario_id1, usuario_id2, minimo = 5):\n",
    "    notas1 = notas_do_usuario(usuario_id1)\n",
    "    notas2 = notas_do_usuario(usuario_id2)\n",
    "    diferencas = notas1.join(notas2, lsuffix=\"_esquerda\", rsuffix=\"_direita\").dropna()\n",
    "  \n",
    "    if(len(diferencas) < minimo):\n",
    "        return [usuario_id1, usuario_id2, 100000]\n",
    "  \n",
    "    distancia =  distancia_de_vetores(diferencas['nota_esquerda'], diferencas['nota_direita'])\n",
    "    return [usuario_id1, usuario_id2, distancia]"
   ]
  },
  {
   "cell_type": "code",
   "execution_count": null,
   "metadata": {
    "colab": {
     "base_uri": "https://localhost:8080/",
     "height": 195
    },
    "colab_type": "code",
    "id": "99IH5UDpzM-9",
    "outputId": "b26972bb-09ca-4cd7-aa4a-fadbf9f4ca64"
   },
   "outputs": [],
   "source": [
    "distancia_de_todos(1).head()"
   ]
  },
  {
   "cell_type": "markdown",
   "metadata": {},
   "source": [
    "### Encontrar os usuários mais próximos de um usuário-alvo"
   ]
  },
  {
   "cell_type": "code",
   "execution_count": null,
   "metadata": {
    "colab": {},
    "colab_type": "code",
    "id": "b4IazvM-zRGG"
   },
   "outputs": [],
   "source": [
    "def mais_proximos_de(usuario_alvo_id):\n",
    "\n",
    "    distancias = distancia_de_todos(usuario_alvo_id)\n",
    "    distancias = distancias.sort_values(\"distancia\")\n",
    "    distancias = distancias.set_index(\"outra_pessoa\").drop(usuario_alvo_id)\n",
    "    return distancias"
   ]
  },
  {
   "cell_type": "code",
   "execution_count": null,
   "metadata": {
    "colab": {
     "base_uri": "https://localhost:8080/",
     "height": 225
    },
    "colab_type": "code",
    "id": "JvaWQH6CzxV9",
    "outputId": "d797c603-322f-41fa-a166-aa2bb01e96d8"
   },
   "outputs": [],
   "source": [
    "mais_proximos_de(1).head()"
   ]
  },
  {
   "cell_type": "markdown",
   "metadata": {
    "colab_type": "text",
    "id": "5aOeRbOXJmdY"
   },
   "source": [
    "# Funções reescritas com parâmetro de número de vizinhos"
   ]
  },
  {
   "cell_type": "code",
   "execution_count": null,
   "metadata": {
    "colab": {},
    "colab_type": "code",
    "id": "j_nUuFK1I2H1"
   },
   "outputs": [],
   "source": [
    "def mais_proximos_de(usuario_alvo_id, n = None):\n",
    "    distancias = distancia_de_todos(usuario_alvo_id, n = n)\n",
    "    distancias = distancias.sort_values(\"distancia\")\n",
    "    distancias = distancias.set_index(\"outra_pessoa\").drop(usuario_alvo_id)\n",
    "    return distancias"
   ]
  },
  {
   "cell_type": "code",
   "execution_count": null,
   "metadata": {
    "colab": {},
    "colab_type": "code",
    "id": "1G7ZYHKtJz8W"
   },
   "outputs": [],
   "source": [
    "def distancia_de_todos(usuario_alvo_id, n = None):\n",
    "    todos_os_usuarios = notas['usuarioId'].unique()\n",
    "    if n:\n",
    "        todos_os_usuarios = todos_os_usuarios[:n]\n",
    "    distancias = [distancia_de_usuarios(usuario_alvo_id, usuario_id) for usuario_id in todos_os_usuarios]\n",
    "    distancias = pd.DataFrame(distancias, columns = [\"usuario_alvo\", \"outra_pessoa\", \"distancia\"])\n",
    "    return distancias"
   ]
  },
  {
   "cell_type": "code",
   "execution_count": null,
   "metadata": {
    "colab": {
     "base_uri": "https://localhost:8080/",
     "height": 1527
    },
    "colab_type": "code",
    "id": "WPT3HyjTJ-kY",
    "outputId": "f4320ffe-d3e8-4f49-a870-349ef2aa8d0b"
   },
   "outputs": [],
   "source": [
    "mais_proximos_de(1, n = 50)"
   ]
  },
  {
   "cell_type": "markdown",
   "metadata": {},
   "source": [
    "### Aqui estabelecemos que o número mínimo de notas de filmes iguais para considerar dois usuários parecidos é igual a cinco (5)"
   ]
  },
  {
   "cell_type": "code",
   "execution_count": null,
   "metadata": {
    "colab": {},
    "colab_type": "code",
    "id": "OAk0SFJ6L5i4"
   },
   "outputs": [],
   "source": [
    "def distancia_de_usuarios(usuario_id1, usuario_id2, minimo = 5):\n",
    "    notas1 = notas_do_usuario(usuario_id1)\n",
    "    notas2 = notas_do_usuario(usuario_id2)\n",
    "    diferencas = notas1.join(notas2, lsuffix=\"_esquerda\", rsuffix=\"_direita\").dropna()\n",
    "  \n",
    "    if(len(diferencas) < minimo):\n",
    "        return None\n",
    "  \n",
    "    distancia =  distancia_de_vetores(diferencas['nota_esquerda'], diferencas['nota_direita'])\n",
    "    return [usuario_id1, usuario_id2, distancia]"
   ]
  },
  {
   "cell_type": "markdown",
   "metadata": {},
   "source": [
    "### A função distância de 1 usuário contra todos recebe o nro de usuários a analisar (n) e filtra somente os usuários similares de acordo com o critério de notas mínimas"
   ]
  },
  {
   "cell_type": "code",
   "execution_count": null,
   "metadata": {
    "colab": {},
    "colab_type": "code",
    "id": "Yc5DRFSHKB_x"
   },
   "outputs": [],
   "source": [
    "def distancia_de_todos(usuario_alvo_id, numero_de_usuarios_a_analisar = None):\n",
    "    todos_os_usuarios = notas['usuarioId'].unique()\n",
    "    if numero_de_usuarios_a_analisar:\n",
    "        todos_os_usuarios = todos_os_usuarios[:numero_de_usuarios_a_analisar]\n",
    "    distancias = [distancia_de_usuarios(usuario_alvo_id, usuario_id) for usuario_id in todos_os_usuarios]\n",
    "    distancias = list(filter(None, distancias))\n",
    "    distancias = pd.DataFrame(distancias, columns = [\"usuario_alvo\", \"outra_pessoa\", \"distancia\"])\n",
    "    return distancias"
   ]
  },
  {
   "cell_type": "markdown",
   "metadata": {},
   "source": [
    "### Busca os usuários mais próximos ao usuário-alvo"
   ]
  },
  {
   "cell_type": "code",
   "execution_count": null,
   "metadata": {
    "colab": {},
    "colab_type": "code",
    "id": "odr1gibsM8s8"
   },
   "outputs": [],
   "source": [
    "def mais_proximos_de(usuario_alvo_id, numero_de_usuarios_a_analisar = None):\n",
    "    distancias = distancia_de_todos(usuario_alvo_id, numero_de_usuarios_a_analisar = numero_de_usuarios_a_analisar)\n",
    "    distancias = distancias.sort_values(\"distancia\")\n",
    "    distancias = distancias.set_index(\"outra_pessoa\").drop(usuario_alvo_id)\n",
    "    return distancias"
   ]
  },
  {
   "cell_type": "code",
   "execution_count": null,
   "metadata": {
    "colab": {
     "base_uri": "https://localhost:8080/",
     "height": 136
    },
    "colab_type": "code",
    "id": "Awtslzo3MNB3",
    "outputId": "82f42d41-83fa-4d97-f83a-f594c0c54101"
   },
   "outputs": [],
   "source": [
    "mais_proximos_de(1, numero_de_usuarios_a_analisar = 50)"
   ]
  },
  {
   "cell_type": "markdown",
   "metadata": {},
   "source": [
    "### Como funciona a recomendação: \n",
    "#### 1. Busca as avaliações do usuário-alvo\n",
    "#### 2. Busca os usuários mais próximos (vizinhos) ao usuário-alvo\n",
    "#### 3. Busca as notas do usuário mais próximo\n",
    "#### 4. Remove os filmes que o usuário-alvo já viu\n",
    "#### 5. Seleciona os filmes do usuário mais similar"
   ]
  },
  {
   "cell_type": "code",
   "execution_count": null,
   "metadata": {
    "colab": {},
    "colab_type": "code",
    "id": "U3GgjGSxMO4_"
   },
   "outputs": [],
   "source": [
    "def sugere_para(usuario_alvo, numero_de_usuarios_a_analisar = None):\n",
    "\n",
    "    # Parte 1\n",
    "    notas_de_voce = notas_do_usuario(usuario_alvo)\n",
    "    filmes_que_voce_ja_viu = notas_de_voce.index\n",
    "\n",
    "    # Parte 2\n",
    "    similares = mais_proximos_de(usuario_alvo, numero_de_usuarios_a_analisar = numero_de_usuarios_a_analisar)\n",
    "    similar = similares.iloc[0].name\n",
    "\n",
    "    # Parte 3\n",
    "    notas_do_similar = notas_do_usuario(similar)\n",
    "    \n",
    "    # Parte 4\n",
    "    notas_do_similar = notas_do_similar.drop(filmes_que_voce_ja_viu, errors='ignore')\n",
    "\n",
    "    # Parte 5\n",
    "    recomendacoes = notas_do_similar.sort_values(\"nota\", ascending=False)\n",
    "    return recomendacoes.join(filmes)"
   ]
  },
  {
   "cell_type": "code",
   "execution_count": null,
   "metadata": {
    "colab": {
     "base_uri": "https://localhost:8080/",
     "height": 225
    },
    "colab_type": "code",
    "id": "JEKeo-a8NJDQ",
    "outputId": "7b5102d4-b559-4ed7-8d5b-9f8ae49eed28"
   },
   "outputs": [],
   "source": [
    "sugere_para(1, numero_de_usuarios_a_analisar=50).head()"
   ]
  },
  {
   "cell_type": "code",
   "execution_count": null,
   "metadata": {
    "colab": {
     "base_uri": "https://localhost:8080/",
     "height": 225
    },
    "colab_type": "code",
    "id": "_rjIFnWpOzJ1",
    "outputId": "d05335f5-a14e-406f-9c9d-bda5d9a4ed51"
   },
   "outputs": [],
   "source": [
    "sugere_para(1).head()"
   ]
  },
  {
   "cell_type": "markdown",
   "metadata": {
    "colab_type": "text",
    "id": "Prj9_gItR7EC"
   },
   "source": [
    "# Sugerindo baseado em vários usuários"
   ]
  },
  {
   "cell_type": "markdown",
   "metadata": {},
   "source": [
    "## Podemos considerar 2 parâmetros: o número de vizinhos e o número de usuários a analisar no dataset. Se tiver milhões de usuários, o custo de comparação será elevado"
   ]
  },
  {
   "cell_type": "code",
   "execution_count": null,
   "metadata": {
    "colab": {},
    "colab_type": "code",
    "id": "UMizNi3TSdYS"
   },
   "outputs": [],
   "source": [
    "def mais_proximos_de(usuario_alvo_id, n_mais_proximos=10, numero_de_usuarios_a_analisar = None):\n",
    "    distancias = distancia_de_todos(usuario_alvo_id, numero_de_usuarios_a_analisar = numero_de_usuarios_a_analisar)\n",
    "    distancias = distancias.sort_values(\"distancia\")\n",
    "    distancias = distancias.set_index(\"outra_pessoa\").drop(usuario_alvo_id)\n",
    "    return distancias.head(n_mais_proximos)"
   ]
  },
  {
   "cell_type": "code",
   "execution_count": null,
   "metadata": {
    "colab": {
     "base_uri": "https://localhost:8080/",
     "height": 136
    },
    "colab_type": "code",
    "id": "bsKiRouRSkrV",
    "outputId": "34ea53ea-30f3-4648-b2b7-7ff68cb6eef7"
   },
   "outputs": [],
   "source": [
    "mais_proximos_de(1, n_mais_proximos = 2, numero_de_usuarios_a_analisar=300)"
   ]
  },
  {
   "cell_type": "markdown",
   "metadata": {},
   "source": [
    "### Nessa versão vamos combinar os filmes de \"n\" usuários mais próximos"
   ]
  },
  {
   "cell_type": "code",
   "execution_count": null,
   "metadata": {
    "colab": {},
    "colab_type": "code",
    "id": "eqrHPKGtPHP1"
   },
   "outputs": [],
   "source": [
    "def sugere_para(voce, n_mais_proximos = 10, numero_de_usuarios_a_analisar = None):\n",
    "    notas_de_voce = notas_do_usuario(voce)\n",
    "    filmes_que_voce_ja_viu = notas_de_voce.index\n",
    "\n",
    "    similares = mais_proximos_de(voce, n_mais_proximos = n_mais_proximos, numero_de_usuarios_a_analisar = numero_de_usuarios_a_analisar)\n",
    "    usuarios_similares = similares.index\n",
    "    notas_dos_similares = notas.set_index(\"usuarioId\").loc[usuarios_similares]\n",
    "    recomendacoes = notas_dos_similares.groupby(\"filmeId\").mean()[[\"nota\"]]\n",
    "    recomendacoes = recomendacoes.sort_values(\"nota\", ascending=False)\n",
    "    return recomendacoes.join(filmes)"
   ]
  },
  {
   "cell_type": "code",
   "execution_count": null,
   "metadata": {
    "colab": {
     "base_uri": "https://localhost:8080/",
     "height": 225
    },
    "colab_type": "code",
    "id": "SZA5ELjUSJ-P",
    "outputId": "86c3d5f9-1167-41ac-82d8-4336c31f670a"
   },
   "outputs": [],
   "source": [
    "sugere_para(1, numero_de_usuarios_a_analisar = 50).head()"
   ]
  },
  {
   "cell_type": "code",
   "execution_count": null,
   "metadata": {
    "colab": {
     "base_uri": "https://localhost:8080/",
     "height": 225
    },
    "colab_type": "code",
    "id": "fwLhmahqUptl",
    "outputId": "08426235-baaf-425f-f708-7caec5bd4e45"
   },
   "outputs": [],
   "source": [
    "sugere_para(1, numero_de_usuarios_a_analisar = 300).head()"
   ]
  },
  {
   "cell_type": "code",
   "execution_count": null,
   "metadata": {
    "colab": {
     "base_uri": "https://localhost:8080/",
     "height": 225
    },
    "colab_type": "code",
    "id": "8CrQCohJUutK",
    "outputId": "02d1b930-2e08-4c75-df0e-cfe7be3e1beb"
   },
   "outputs": [],
   "source": [
    "sugere_para(1).head()"
   ]
  },
  {
   "cell_type": "markdown",
   "metadata": {},
   "source": [
    "### O algoritmo kNN é um lazy learner (memory-based), porém, é eficaz para recomendações colaborativas"
   ]
  },
  {
   "cell_type": "code",
   "execution_count": null,
   "metadata": {
    "colab": {},
    "colab_type": "code",
    "id": "E243gH2hUz6c"
   },
   "outputs": [],
   "source": [
    "def knn(usuario_alvo_id, k_mais_proximos=10, numero_de_usuarios_a_analisar = None):\n",
    "    distancias = distancia_de_todos(usuario_alvo_id, numero_de_usuarios_a_analisar = numero_de_usuarios_a_analisar)\n",
    "    distancias = distancias.sort_values(\"distancia\")\n",
    "    distancias = distancias.set_index(\"outra_pessoa\").drop(usuario_alvo_id)\n",
    "    return distancias.head(k_mais_proximos)"
   ]
  },
  {
   "cell_type": "markdown",
   "metadata": {},
   "source": [
    "### A solução de recomendação agora usa o kNN e a média dos filmes dos usuários mais parecidos"
   ]
  },
  {
   "cell_type": "code",
   "execution_count": null,
   "metadata": {
    "colab": {},
    "colab_type": "code",
    "id": "7XJ4Sj34V9Xn"
   },
   "outputs": [],
   "source": [
    "def sugere_para(voce, k_mais_proximos = 10, numero_de_usuarios_a_analisar = None):\n",
    "    notas_de_voce = notas_do_usuario(voce)\n",
    "    filmes_que_voce_ja_viu = notas_de_voce.index\n",
    "\n",
    "    similares = knn(voce, k_mais_proximos = k_mais_proximos, numero_de_usuarios_a_analisar = numero_de_usuarios_a_analisar)\n",
    "    usuarios_similares = similares.index\n",
    "    notas_dos_similares = notas.set_index(\"usuarioId\").loc[usuarios_similares]\n",
    "    recomendacoes = notas_dos_similares.groupby(\"filmeId\").mean()[[\"nota\"]]\n",
    "    recomendacoes = recomendacoes.sort_values(\"nota\", ascending=False)\n",
    "    return recomendacoes.join(filmes)"
   ]
  },
  {
   "cell_type": "markdown",
   "metadata": {
    "colab_type": "text",
    "id": "4yukGRpcXS-E"
   },
   "source": [
    "# Testar um usuário novo (exercício)\n",
    "\n",
    "### Determine o ID do novo usuário\n",
    "### Teste o novo usuário chamando a função correta"
   ]
  },
  {
   "cell_type": "code",
   "execution_count": null,
   "metadata": {
    "colab": {
     "base_uri": "https://localhost:8080/",
     "height": 373
    },
    "colab_type": "code",
    "id": "rqSpEkJlWCDI",
    "outputId": "6200bed3-7079-48df-baff-0d681ab93874"
   },
   "outputs": [],
   "source": [
    "filmes.loc[[122904, 1246, 2529, 2329 , 2324 , 1 , 7 , 2 ,1196, 260]]"
   ]
  },
  {
   "cell_type": "code",
   "execution_count": null,
   "metadata": {
    "colab": {},
    "colab_type": "code",
    "id": "DLvJ4dSwXY0e"
   },
   "outputs": [],
   "source": [
    "def novo_usuario(dados):\n",
    "    novo_usuario = # maior id disponível + 1\n",
    "    notas_do_usuario_novo = pd.DataFrame(dados, columns=[\"filmeId\", \"nota\"])\n",
    "    notas_do_usuario_novo['usuarioId'] = novo_usuario\n",
    "    return pd.concat([notas, notas_do_usuario_novo])"
   ]
  },
  {
   "cell_type": "code",
   "execution_count": null,
   "metadata": {
    "colab": {
     "base_uri": "https://localhost:8080/",
     "height": 195
    },
    "colab_type": "code",
    "id": "lriFUVj9X-gL",
    "outputId": "e57c19e3-b615-4685-b43a-c1112627b807"
   },
   "outputs": [],
   "source": [
    "notas = novo_usuario([[122904,2],[1246,5],[2529,2],[2329,5],[2324,5],[1,2],[7,0.5],[2,2],[1196,1],[260,1]])\n",
    "notas.tail()"
   ]
  },
  {
   "cell_type": "code",
   "execution_count": null,
   "metadata": {
    "colab": {
     "base_uri": "https://localhost:8080/",
     "height": 225
    },
    "colab_type": "code",
    "id": "dCHv_cocYyxa",
    "outputId": "e9b939f8-d5da-4379-da6e-a98361e97e17"
   },
   "outputs": [],
   "source": [
    "# Sugerir para o novo usuário"
   ]
  },
  {
   "cell_type": "markdown",
   "metadata": {
    "colab_type": "text",
    "id": "SRkK7tYRaT60"
   },
   "source": [
    "# Exercício: utilizar somente as notas de filmes com mais de 50 votos\n",
    "### Refaça a recomendação. Está diferente?"
   ]
  },
  {
   "cell_type": "code",
   "execution_count": null,
   "metadata": {
    "colab": {
     "base_uri": "https://localhost:8080/",
     "height": 225
    },
    "colab_type": "code",
    "id": "h-4tQdMRZEA-",
    "outputId": "8ce64869-0091-4661-9112-4521851e84ea"
   },
   "outputs": [],
   "source": [
    "# Sobrescreva o dataset \"notas\" com filmes que tenha apenas mais de 50 votos (filmes_com_mais_de_50_votos)\n",
    "notas.head()"
   ]
  },
  {
   "cell_type": "code",
   "execution_count": null,
   "metadata": {
    "colab": {
     "base_uri": "https://localhost:8080/",
     "height": 195
    },
    "colab_type": "code",
    "id": "h8nAr5wia_rS",
    "outputId": "1cd8ff3a-b956-43a6-aff3-ff74b1906bb7"
   },
   "outputs": [],
   "source": [
    "notas = notas.reset_index()\n",
    "notas.head()"
   ]
  },
  {
   "cell_type": "code",
   "execution_count": null,
   "metadata": {
    "colab": {
     "base_uri": "https://localhost:8080/",
     "height": 225
    },
    "colab_type": "code",
    "id": "-ZtHdbGbbERh",
    "outputId": "b05830b8-634f-4484-c16a-2a2db4768166"
   },
   "outputs": [],
   "source": [
    "# ?"
   ]
  },
  {
   "cell_type": "markdown",
   "metadata": {},
   "source": [
    "### Nessa última versão consideraremos uma quantidade mínima de aparições de um filme para fazer a sugestão. Como benefício, você evita sugerir para o usuário filmes \"obscuros\""
   ]
  },
  {
   "cell_type": "code",
   "execution_count": null,
   "metadata": {
    "colab": {},
    "colab_type": "code",
    "id": "uQOhwBKlcr0j"
   },
   "outputs": [],
   "source": [
    "def sugere_para(voce, k_mais_proximos = 10, numero_de_usuarios_a_analisar = None):\n",
    "    notas_de_voce = notas_do_usuario(voce)\n",
    "    filmes_que_voce_ja_viu = notas_de_voce.index\n",
    "\n",
    "    similares = knn(voce, k_mais_proximos = k_mais_proximos, numero_de_usuarios_a_analisar = numero_de_usuarios_a_analisar)\n",
    "    usuarios_similares = similares.index\n",
    "    notas_dos_similares = notas.set_index(\"usuarioId\").loc[usuarios_similares]\n",
    "    recomendacoes = notas_dos_similares.groupby(\"filmeId\").mean()[[\"nota\"]]\n",
    "    aparicoes = notas_dos_similares.groupby(\"filmeId\").count()[['nota']]\n",
    "  \n",
    "    filtro_minimo = k_mais_proximos / 2\n",
    "    recomendacoes = recomendacoes.join(aparicoes, lsuffix=\"_media_dos_usuarios\", rsuffix=\"_aparicoes_nos_usuarios\")\n",
    "    recomendacoes = recomendacoes.query(\"nota_aparicoes_nos_usuarios >= %.2f\" % filtro_minimo)  \n",
    "    recomendacoes = recomendacoes.sort_values(\"nota_media_dos_usuarios\", ascending=False)\n",
    "    recomendacoes = recomendacoes.drop(filmes_que_voce_ja_viu,errors='ignore')\n",
    "    return recomendacoes.join(filmes)"
   ]
  },
  {
   "cell_type": "code",
   "execution_count": null,
   "metadata": {
    "colab": {},
    "colab_type": "code",
    "id": "H40vlbabe3UR"
   },
   "outputs": [],
   "source": [
    "def knn(voce_id, k_mais_proximos=10, numero_de_usuarios_a_analisar = None):\n",
    "    distancias = distancia_de_todos(voce_id, numero_de_usuarios_a_analisar = numero_de_usuarios_a_analisar)\n",
    "    distancias = distancias.sort_values(\"distancia\")\n",
    "    distancias = distancias.set_index(\"outra_pessoa\").drop(voce_id, errors='ignore')\n",
    "    return distancias.head(k_mais_proximos)"
   ]
  },
  {
   "cell_type": "code",
   "execution_count": null,
   "metadata": {
    "colab": {
     "base_uri": "https://localhost:8080/",
     "height": 3443
    },
    "colab_type": "code",
    "id": "HfPoPxukecFK",
    "outputId": "d50fd6c9-3486-4b71-e5d1-2e00a0732191"
   },
   "outputs": [],
   "source": [
    "sugere_para(1, numero_de_usuarios_a_analisar=500)"
   ]
  },
  {
   "cell_type": "code",
   "execution_count": null,
   "metadata": {
    "colab": {
     "base_uri": "https://localhost:8080/",
     "height": 645
    },
    "colab_type": "code",
    "id": "MEehWzd_erLo",
    "outputId": "b4481a6d-7ebc-4684-c338-70ec4dc5d18e"
   },
   "outputs": [],
   "source": [
    "sugere_para(611).head(10)"
   ]
  },
  {
   "cell_type": "code",
   "execution_count": null,
   "metadata": {
    "colab": {
     "base_uri": "https://localhost:8080/",
     "height": 407
    },
    "colab_type": "code",
    "id": "UcVIBKF9gWrf",
    "outputId": "05b2df47-68a4-4d42-f40e-ab85c7733a59"
   },
   "outputs": [],
   "source": [
    "sugere_para(611, k_mais_proximos=20).head(10)"
   ]
  },
  {
   "cell_type": "code",
   "execution_count": null,
   "metadata": {
    "colab": {},
    "colab_type": "code",
    "id": "I3d6agZcgZ2l"
   },
   "outputs": [],
   "source": []
  }
 ],
 "metadata": {
  "colab": {
   "collapsed_sections": [],
   "name": "Introdução a Recomendação",
   "provenance": [],
   "version": "0.3.2"
  },
  "kernelspec": {
   "display_name": "Python 3 (ipykernel)",
   "language": "python",
   "name": "python3"
  },
  "language_info": {
   "codemirror_mode": {
    "name": "ipython",
    "version": 3
   },
   "file_extension": ".py",
   "mimetype": "text/x-python",
   "name": "python",
   "nbconvert_exporter": "python",
   "pygments_lexer": "ipython3",
   "version": "3.9.7"
  }
 },
 "nbformat": 4,
 "nbformat_minor": 1
}
